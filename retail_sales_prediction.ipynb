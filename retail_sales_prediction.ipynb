{
 "cells": [
  {
   "cell_type": "markdown",
   "id": "d45050da",
   "metadata": {},
   "source": [
    "#    Retail Sales Prediction Project\n",
    "### End-to-End Machine Learning Deployment"
   ]
  },
  {
   "cell_type": "markdown",
   "id": "e1c550ec",
   "metadata": {},
   "source": [
    "\n",
    "##  Overview  \n",
    "This project follows a complete **ML pipeline** from data preprocessing to model training and deployment using Flask & Docker.  \n",
    "\n",
    "###  Steps Covered:  \n",
    "1️⃣ Data Cleaning & Exploration  \n",
    "2️⃣ Model Training & Evaluation  \n",
    "3️⃣ Save the Model (`.pkl` file)  \n",
    "4️⃣ Build a Flask API for Predictions  \n",
    "5️⃣ Deploy using Docker   \n"
   ]
  },
  {
   "cell_type": "code",
   "execution_count": 21,
   "id": "f81be153",
   "metadata": {},
   "outputs": [
    {
     "name": "stdout",
     "output_type": "stream",
     "text": [
      "Requirement already satisfied: scikit-learn in c:\\users\\dell\\anaconda3\\envs\\p_profile_new\\lib\\site-packages (1.6.1)\n",
      "Requirement already satisfied: numpy>=1.19.5 in c:\\users\\dell\\anaconda3\\envs\\p_profile_new\\lib\\site-packages (from scikit-learn) (1.26.4)\n",
      "Requirement already satisfied: scipy>=1.6.0 in c:\\users\\dell\\anaconda3\\envs\\p_profile_new\\lib\\site-packages (from scikit-learn) (1.13.0)\n",
      "Requirement already satisfied: joblib>=1.2.0 in c:\\users\\dell\\anaconda3\\envs\\p_profile_new\\lib\\site-packages (from scikit-learn) (1.4.0)\n",
      "Requirement already satisfied: threadpoolctl>=3.1.0 in c:\\users\\dell\\anaconda3\\envs\\p_profile_new\\lib\\site-packages (from scikit-learn) (3.6.0)\n"
     ]
    }
   ],
   "source": [
    "\n",
    "#  Import Required Libraries\n",
    "import pandas as pd\n",
    "import numpy as np\n",
    "import matplotlib.pyplot as plt\n",
    "import seaborn as sns\n",
    "!pip install scikit-learn\n",
    "from sklearn.model_selection import train_test_split\n",
    "from sklearn.preprocessing import LabelEncoder\n",
    "from sklearn.linear_model import LinearRegression\n",
    "from sklearn.metrics import mean_absolute_error, mean_squared_error, r2_score\n",
    "import pickle\n"
   ]
  },
  {
   "cell_type": "markdown",
   "id": "380a95a1",
   "metadata": {},
   "source": [
    "##  Load & Explore Dataset"
   ]
  },
  {
   "cell_type": "code",
   "execution_count": 22,
   "id": "0b9d2443",
   "metadata": {},
   "outputs": [
    {
     "name": "stdout",
     "output_type": "stream",
     "text": [
      "<class 'pandas.core.frame.DataFrame'>\n",
      "RangeIndex: 307645 entries, 0 to 307644\n",
      "Data columns (total 9 columns):\n",
      " #   Column            Non-Null Count   Dtype  \n",
      "---  ------            --------------   -----  \n",
      " 0   YEAR              307645 non-null  int64  \n",
      " 1   MONTH             307645 non-null  int64  \n",
      " 2   SUPPLIER          307478 non-null  object \n",
      " 3   ITEM CODE         307645 non-null  object \n",
      " 4   ITEM DESCRIPTION  307645 non-null  object \n",
      " 5   ITEM TYPE         307644 non-null  object \n",
      " 6   RETAIL SALES      307642 non-null  float64\n",
      " 7   RETAIL TRANSFERS  307645 non-null  float64\n",
      " 8   WAREHOUSE SALES   307645 non-null  float64\n",
      "dtypes: float64(3), int64(2), object(4)\n",
      "memory usage: 21.1+ MB\n"
     ]
    },
    {
     "data": {
      "text/plain": [
       "(None,\n",
       "    YEAR  MONTH                           SUPPLIER ITEM CODE  \\\n",
       " 0  2020      1  REPUBLIC NATIONAL DISTRIBUTING CO    100009   \n",
       " 1  2020      1                          PWSWN INC    100024   \n",
       " 2  2020      1            RELIABLE CHURCHILL LLLP      1001   \n",
       " 3  2020      1          LANTERNA DISTRIBUTORS INC    100145   \n",
       " 4  2020      1               DIONYSOS IMPORTS INC    100293   \n",
       " \n",
       "                       ITEM DESCRIPTION ITEM TYPE  RETAIL SALES  \\\n",
       " 0                  BOOTLEG RED - 750ML      WINE          0.00   \n",
       " 1            MOMENT DE PLAISIR - 750ML      WINE          0.00   \n",
       " 2  S SMITH ORGANIC PEAR CIDER - 18.7OZ      BEER          0.00   \n",
       " 3        SCHLINK HAUS KABINETT - 750ML      WINE          0.00   \n",
       " 4       SANTORINI GAVALA WHITE - 750ML      WINE          0.82   \n",
       " \n",
       "    RETAIL TRANSFERS  WAREHOUSE SALES  \n",
       " 0               0.0              2.0  \n",
       " 1               1.0              4.0  \n",
       " 2               0.0              1.0  \n",
       " 3               0.0              1.0  \n",
       " 4               0.0              0.0  )"
      ]
     },
     "execution_count": 22,
     "metadata": {},
     "output_type": "execute_result"
    }
   ],
   "source": [
    "\n",
    "# Load Dataset\n",
    "file_path = r\"C:\\Users\\dell\\Desktop\\datasets\\Warehouse_and_Retail_Sales.csv\"\n",
    "df = pd.read_csv(file_path)\n",
    "\n",
    "# Show dataset info\n",
    "df.info(), df.head()\n"
   ]
  },
  {
   "cell_type": "markdown",
   "id": "6271cc31",
   "metadata": {},
   "source": [
    "##  Data Cleaning"
   ]
  },
  {
   "cell_type": "code",
   "execution_count": 25,
   "id": "d419c13b",
   "metadata": {},
   "outputs": [],
   "source": [
    "\n",
    "# Handling Missing Values\n",
    "df[\"SUPPLIER\"] = df[\"SUPPLIER\"].fillna(\"UNKNOWN_SUPPLIER\")\n",
    "df[\"ITEM TYPE\"] = df[\"ITEM TYPE\"].fillna(\"UNKNOWN_TYPE\")\n",
    "df[\"RETAIL SALES\"] = df[\"RETAIL SALES\"].fillna(df[\"RETAIL SALES\"].median())\n"
   ]
  },
  {
   "cell_type": "markdown",
   "id": "921d45cc",
   "metadata": {},
   "source": [
    "##  Exploratory Data Analysis (EDA)"
   ]
  },
  {
   "cell_type": "code",
   "execution_count": 26,
   "id": "2e2a6e52",
   "metadata": {},
   "outputs": [
    {
     "name": "stderr",
     "output_type": "stream",
     "text": [
      "c:\\Users\\dell\\anaconda3\\envs\\p_profile_new\\Lib\\site-packages\\seaborn\\_oldcore.py:1119: FutureWarning: use_inf_as_na option is deprecated and will be removed in a future version. Convert inf values to NaN before operating instead.\n",
      "  with pd.option_context('mode.use_inf_as_na', True):\n",
      "c:\\Users\\dell\\anaconda3\\envs\\p_profile_new\\Lib\\site-packages\\seaborn\\_oldcore.py:1119: FutureWarning: use_inf_as_na option is deprecated and will be removed in a future version. Convert inf values to NaN before operating instead.\n",
      "  with pd.option_context('mode.use_inf_as_na', True):\n",
      "c:\\Users\\dell\\anaconda3\\envs\\p_profile_new\\Lib\\site-packages\\seaborn\\_oldcore.py:1119: FutureWarning: use_inf_as_na option is deprecated and will be removed in a future version. Convert inf values to NaN before operating instead.\n",
      "  with pd.option_context('mode.use_inf_as_na', True):\n"
     ]
    },
    {
     "data": {
      "image/png": "[encoded data removed]",
      "text/plain": [
       "<Figure size 1800x500 with 3 Axes>"
      ]
     },
     "metadata": {},
     "output_type": "display_data"
    }
   ],
   "source": [
    "\n",
    "# Plot sales distributions\n",
    "sns.set_style(\"whitegrid\")\n",
    "fig, axes = plt.subplots(1, 3, figsize=(18, 5))\n",
    "\n",
    "sns.histplot(df[\"RETAIL SALES\"], bins=50, kde=True, ax=axes[0], color=\"blue\")\n",
    "axes[0].set_title(\"Retail Sales Distribution\")\n",
    "\n",
    "sns.histplot(df[\"RETAIL TRANSFERS\"], bins=50, kde=True, ax=axes[1], color=\"green\")\n",
    "axes[1].set_title(\"Retail Transfers Distribution\")\n",
    "\n",
    "sns.histplot(df[\"WAREHOUSE SALES\"], bins=50, kde=True, ax=axes[2], color=\"red\")\n",
    "axes[2].set_title(\"Warehouse Sales Distribution\")\n",
    "\n",
    "plt.tight_layout()\n",
    "plt.show()\n"
   ]
  },
  {
   "cell_type": "markdown",
   "id": "44289e41",
   "metadata": {},
   "source": [
    "##  Feature Engineering & Model Training"
   ]
  },
  {
   "cell_type": "code",
   "execution_count": 27,
   "id": "fe948e7c",
   "metadata": {},
   "outputs": [
    {
     "data": {
      "text/plain": [
       "(1.7033650166104286, 79.42348606799723, 0.9194788541010481)"
      ]
     },
     "execution_count": 27,
     "metadata": {},
     "output_type": "execute_result"
    }
   ],
   "source": [
    "\n",
    "# Feature Selection\n",
    "features = [\"YEAR\", \"MONTH\", \"SUPPLIER\", \"ITEM TYPE\", \"RETAIL TRANSFERS\", \"WAREHOUSE SALES\"]\n",
    "target = \"RETAIL SALES\"\n",
    "\n",
    "# Encode categorical features\n",
    "label_encoders = {}\n",
    "for col in [\"SUPPLIER\", \"ITEM TYPE\"]:\n",
    "    le = LabelEncoder()\n",
    "    df[col] = le.fit_transform(df[col])\n",
    "    label_encoders[col] = le\n",
    "\n",
    "# Train-Test Split (10% for training due to memory constraints)\n",
    "X = df[features]\n",
    "y = df[target]\n",
    "X_train, X_test, y_train, y_test = train_test_split(X, y, test_size=0.9, random_state=42)\n",
    "\n",
    "# Train Linear Regression Model\n",
    "lr_model = LinearRegression()\n",
    "lr_model.fit(X_train, y_train)\n",
    "\n",
    "# Model Evaluation\n",
    "y_pred_lr = lr_model.predict(X_test)\n",
    "mae_lr = mean_absolute_error(y_test, y_pred_lr)\n",
    "mse_lr = mean_squared_error(y_test, y_pred_lr)\n",
    "r2_lr = r2_score(y_test, y_pred_lr)\n",
    "\n",
    "mae_lr, mse_lr, r2_lr\n"
   ]
  },
  {
   "cell_type": "markdown",
   "id": "98f9c31d",
   "metadata": {},
   "source": [
    "##  Save Model for Deployment"
   ]
  },
  {
   "cell_type": "code",
   "execution_count": 28,
   "id": "e924fa6d",
   "metadata": {},
   "outputs": [
    {
     "name": "stdout",
     "output_type": "stream",
     "text": [
      "Model saved as retail_sales_model.pkl\n"
     ]
    }
   ],
   "source": [
    "\n",
    "# Save the trained model as a pickle file\n",
    "model_filename = \"retail_sales_model.pkl\"\n",
    "with open(model_filename, \"wb\") as file:\n",
    "    pickle.dump(lr_model, file)\n",
    "\n",
    "print(f\"Model saved as {model_filename}\")\n"
   ]
  },
  {
   "cell_type": "markdown",
   "id": "e596180a",
   "metadata": {},
   "source": [
    "##  Flask API for Model Deployment"
   ]
  },
  {
   "cell_type": "code",
   "execution_count": 29,
   "id": "6a8888b4",
   "metadata": {},
   "outputs": [
    {
     "data": {
      "text/plain": [
       "'\\n\\nfrom flask import Flask, request, jsonify\\nimport pickle\\nimport numpy as np\\n\\n# Load Model\\nwith open(\"retail_sales_model.pkl\", \"rb\") as file:\\n    model = pickle.load(file)\\n\\n# Initialize Flask App\\napp = Flask(__name__)\\n\\n@app.route(\"/\")\\ndef home():\\n    return \"Retail Sales Prediction API is Running!\"\\n\\n@app.route(\"/predict\", methods=[\"POST\"])\\ndef predict():\\n    data = request.get_json()\\n    features = np.array([\\n        data[\"YEAR\"], data[\"MONTH\"], data[\"SUPPLIER\"], \\n        data[\"ITEM TYPE\"], data[\"RETAIL TRANSFERS\"], data[\"WAREHOUSE SALES\"]\\n    ]).reshape(1, -1)\\n    prediction = model.predict(features)[0]\\n    return jsonify({\"predicted_retail_sales\": round(prediction, 2)})\\n\\nif __name__ == \"__main__\":\\n    app.run(host=\"0.0.0.0\", port=5000, debug=True)\\n\\n'"
      ]
     },
     "execution_count": 29,
     "metadata": {},
     "output_type": "execute_result"
    }
   ],
   "source": [
    "'''\n",
    "\n",
    "from flask import Flask, request, jsonify\n",
    "import pickle\n",
    "import numpy as np\n",
    "\n",
    "# Load Model\n",
    "with open(\"retail_sales_model.pkl\", \"rb\") as file:\n",
    "    model = pickle.load(file)\n",
    "\n",
    "# Initialize Flask App\n",
    "app = Flask(__name__)\n",
    "\n",
    "@app.route(\"/\")\n",
    "def home():\n",
    "    return \"Retail Sales Prediction API is Running!\"\n",
    "\n",
    "@app.route(\"/predict\", methods=[\"POST\"])\n",
    "def predict():\n",
    "    data = request.get_json()\n",
    "    features = np.array([\n",
    "        data[\"YEAR\"], data[\"MONTH\"], data[\"SUPPLIER\"], \n",
    "        data[\"ITEM TYPE\"], data[\"RETAIL TRANSFERS\"], data[\"WAREHOUSE SALES\"]\n",
    "    ]).reshape(1, -1)\n",
    "    prediction = model.predict(features)[0]\n",
    "    return jsonify({\"predicted_retail_sales\": round(prediction, 2)})\n",
    "\n",
    "if __name__ == \"__main__\":\n",
    "    app.run(host=\"0.0.0.0\", port=5000, debug=True)\n",
    "\n",
    "'''"
   ]
  },
  {
   "cell_type": "markdown",
   "id": "484721cb",
   "metadata": {},
   "source": [
    "##  Dockerize Flask API"
   ]
  },
  {
   "cell_type": "code",
   "execution_count": 30,
   "id": "4ec4cc1c",
   "metadata": {},
   "outputs": [
    {
     "data": {
      "text/plain": [
       "'\\n\\n# Use Python base image\\nFROM python:3.9\\n\\n# Set working directory\\nWORKDIR /app\\n\\n# Copy files to container\\nCOPY . /app\\n\\n# Install dependencies\\nRUN pip install flask numpy pandas scikit-learn\\n\\n# Expose port\\nEXPOSE 5000\\n\\n# Run Flask app\\nCMD [\"python\", \"app.py\"]\\n\\n'"
      ]
     },
     "execution_count": 30,
     "metadata": {},
     "output_type": "execute_result"
    }
   ],
   "source": [
    "'''\n",
    "\n",
    "# Use Python base image\n",
    "FROM python:3.9\n",
    "\n",
    "# Set working directory\n",
    "WORKDIR /app\n",
    "\n",
    "# Copy files to container\n",
    "COPY . /app\n",
    "\n",
    "# Install dependencies\n",
    "RUN pip install flask numpy pandas scikit-learn\n",
    "\n",
    "# Expose port\n",
    "EXPOSE 5000\n",
    "\n",
    "# Run Flask app\n",
    "CMD [\"python\", \"app.py\"]\n",
    "\n",
    "'''"
   ]
  }
 ],
 "metadata": {
  "kernelspec": {
   "display_name": "p_profile_new",
   "language": "python",
   "name": "python3"
  },
  "language_info": {
   "codemirror_mode": {
    "name": "ipython",
    "version": 3
   },
   "file_extension": ".py",
   "mimetype": "text/x-python",
   "name": "python",
   "nbconvert_exporter": "python",
   "pygments_lexer": "ipython3",
   "version": "3.12.3"
  }
 },
 "nbformat": 4,
 "nbformat_minor": 5
}
